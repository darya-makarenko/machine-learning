{
 "cells": [
  {
   "cell_type": "code",
   "execution_count": 568,
   "metadata": {},
   "outputs": [],
   "source": [
    "import numpy as np\n",
    "import matplotlib.pyplot as plt\n",
    "import sklearn\n",
    "from scipy.stats import multivariate_normal\n",
    "import scipy.stats as stats"
   ]
  },
  {
   "cell_type": "code",
   "execution_count": 569,
   "metadata": {},
   "outputs": [],
   "source": [
    "def getError(x1, x2, mean, cov, P, step=0.4):\n",
    "    x = x1\n",
    "    error = 0\n",
    "    while (x <= x2):\n",
    "        error += multivariate_normal.pdf(x, mean=mean, cov=cov)*P\n",
    "        x += step\n",
    "    return error"
   ]
  },
  {
   "cell_type": "code",
   "execution_count": 570,
   "metadata": {},
   "outputs": [],
   "source": [
    "X_range = (-100, 100)\n",
    "X_draw_range = (-2, 20)\n",
    "X = np.arange(-2, 20, 0.05)\n",
    "sigma_1 = 0.19\n",
    "sigma_2 = 3"
   ]
  },
  {
   "cell_type": "code",
   "execution_count": 571,
   "metadata": {},
   "outputs": [],
   "source": [
    "P1 = 0.9\n",
    "P2 = 1 - P1\n",
    "m1,m2 = 5, 9\n",
    "sigma_1 = 2\n",
    "sigma_2 = P1 / P2 * sigma_1"
   ]
  },
  {
   "cell_type": "code",
   "execution_count": 572,
   "metadata": {},
   "outputs": [],
   "source": [
    "sigma_1 = 2\n",
    "sigma_2 = 2"
   ]
  },
  {
   "cell_type": "code",
   "execution_count": 573,
   "metadata": {},
   "outputs": [],
   "source": [
    "#Y_1 = multivariate_normal.pdf(X, mean=m1, cov=sigma_1)\n",
    "#Y_2 = multivariate_normal.pdf(X, mean=m2, cov=sigma_2)\n",
    "#plt.plot(X, Y_1, c='b')\n",
    "#plt.plot(X, Y_2, c='r')\n",
    "#plt.show()"
   ]
  },
  {
   "cell_type": "markdown",
   "metadata": {},
   "source": [
    "Синий график распределение №1\n",
    "Красный график распреление №2"
   ]
  },
  {
   "cell_type": "code",
   "execution_count": 574,
   "metadata": {},
   "outputs": [
    {
     "data": {
      "text/plain": [
       "8.079999999999934"
      ]
     },
     "execution_count": 574,
     "metadata": {},
     "output_type": "execute_result"
    }
   ],
   "source": [
    "delta = 0.001\n",
    "X0 = \"underfined\"\n",
    "for x in np.arange(5, 20, 0.01):\n",
    "    p1 = multivariate_normal.pdf(x, mean=m1, cov=sigma_1)*P1\n",
    "    p2 = multivariate_normal.pdf(x, mean=m2, cov=sigma_2)*P2\n",
    "    if (np.abs(p1 - p2) < delta):\n",
    "        X0 = x\n",
    "        break\n",
    "X0"
   ]
  },
  {
   "cell_type": "code",
   "execution_count": 575,
   "metadata": {},
   "outputs": [
    {
     "data": {
      "image/png": "[encoded data removed]",
      "text/plain": [
       "<Figure size 432x288 with 1 Axes>"
      ]
     },
     "metadata": {
      "needs_background": "light"
     },
     "output_type": "display_data"
    }
   ],
   "source": [
    "Y_1 = multivariate_normal.pdf(X, mean=m1, cov=sigma_1) * P1\n",
    "Y_2 = multivariate_normal.pdf(X, mean=m2, cov=sigma_2) * P2\n",
    "plt.plot(X, Y_1, c='b')\n",
    "plt.plot(X, Y_2, c='r')\n",
    "Y_temp = multivariate_normal.pdf(X0, mean=m1, cov=sigma_1) * P1\n",
    "plt.plot([X0]*100, np.linspace(0, Y_temp, 100), c=\"black\")\n",
    "plt.show()"
   ]
  },
  {
   "cell_type": "code",
   "execution_count": 576,
   "metadata": {},
   "outputs": [
    {
     "data": {
      "text/plain": [
       "(0.038462022593105494, 0.029257680048998518, 0.06771970264210402)"
      ]
     },
     "execution_count": 576,
     "metadata": {},
     "output_type": "execute_result"
    }
   ],
   "source": [
    "error_1 = getError(X_range[0], X0, mean=m2, cov=sigma_2, P=P2, step=0.9)\n",
    "error_2 = getError(X0, X_range[1], mean=m1, cov=sigma_1, P=P1, step=0.9)\n",
    "error_1, error_2, error_1 + error_2"
   ]
  },
  {
   "cell_type": "code",
   "execution_count": 577,
   "metadata": {},
   "outputs": [],
   "source": [
    "Points_1_X = []\n",
    "Points_1_Y = []\n",
    "for x in np.arange(X_draw_range[0], X0, 0.1):\n",
    "    y = multivariate_normal.pdf(x, mean=m2, cov=sigma_2)*P2\n",
    "    Points_1_Y += [y_ for y_ in np.arange(0, y, 0.005)]\n",
    "    Points_1_X += [x for y_ in np.arange(0, y, 0.005)]\n",
    "    \n",
    "Points_2_X = []\n",
    "Points_2_Y = []\n",
    "for x in np.arange(X0, X_draw_range[1], 0.05):\n",
    "    y = multivariate_normal.pdf(x, mean=m1, cov=sigma_1)*P1\n",
    "    Points_2_Y += [y_ for y_ in np.arange(0, y, 0.0005)]\n",
    "    Points_2_X += [x for y_ in np.arange(0, y, 0.0005)]"
   ]
  },
  {
   "cell_type": "code",
   "execution_count": 578,
   "metadata": {},
   "outputs": [
    {
     "data": {
      "image/png": "[encoded data removed]",
      "text/plain": [
       "<Figure size 432x288 with 1 Axes>"
      ]
     },
     "metadata": {
      "needs_background": "light"
     },
     "output_type": "display_data"
    }
   ],
   "source": [
    "Y_1 = multivariate_normal.pdf(X, mean=m1, cov=sigma_1)*P1\n",
    "Y_2 = multivariate_normal.pdf(X, mean=m2, cov=sigma_2)*P2\n",
    "plt.plot(X, Y_1, c='b', linewidth=4)\n",
    "plt.plot(X, Y_2, c='r', linewidth=4)\n",
    "Y_temp = multivariate_normal.pdf(X0, mean=m1, cov=sigma_1)*P1\n",
    "plt.plot([X0]*100, np.linspace(0, Y_temp, 100), c=\"black\")\n",
    "plt.scatter(Points_1_X, Points_1_Y, c='y')\n",
    "plt.scatter(Points_2_X, Points_2_Y, c='g')\n",
    "plt.show()"
   ]
  },
  {
   "cell_type": "code",
   "execution_count": null,
   "metadata": {},
   "outputs": [],
   "source": []
  },
  {
   "cell_type": "code",
   "execution_count": null,
   "metadata": {},
   "outputs": [],
   "source": []
  },
  {
   "cell_type": "code",
   "execution_count": null,
   "metadata": {},
   "outputs": [],
   "source": []
  },
  {
   "cell_type": "code",
   "execution_count": null,
   "metadata": {},
   "outputs": [],
   "source": []
  },
  {
   "cell_type": "code",
   "execution_count": null,
   "metadata": {},
   "outputs": [],
   "source": []
  },
  {
   "cell_type": "code",
   "execution_count": null,
   "metadata": {},
   "outputs": [],
   "source": []
  },
  {
   "cell_type": "code",
   "execution_count": null,
   "metadata": {},
   "outputs": [],
   "source": []
  },
  {
   "cell_type": "code",
   "execution_count": null,
   "metadata": {},
   "outputs": [],
   "source": []
  },
  {
   "cell_type": "code",
   "execution_count": null,
   "metadata": {},
   "outputs": [],
   "source": []
  },
  {
   "cell_type": "code",
   "execution_count": null,
   "metadata": {},
   "outputs": [],
   "source": []
  },
  {
   "cell_type": "code",
   "execution_count": null,
   "metadata": {},
   "outputs": [],
   "source": []
  },
  {
   "cell_type": "code",
   "execution_count": null,
   "metadata": {},
   "outputs": [],
   "source": []
  },
  {
   "cell_type": "code",
   "execution_count": 515,
   "metadata": {},
   "outputs": [],
   "source": [
    "X_1, X_2 = [],[]\n",
    "P1 = 0.4\n",
    "P2 = 1 - P1\n",
    "N = 10000\n",
    "p = np.random.normal(0,1, N)\n",
    "X_ = np.random.normal(0, 20, N)\n",
    "for i in range(len(X_)):\n",
    "    if(p[i] > P1):\n",
    "        X_2 += [X_[i]]\n",
    "    else:\n",
    "        X_1 += [X_[i]]"
   ]
  },
  {
   "cell_type": "code",
   "execution_count": 516,
   "metadata": {},
   "outputs": [
    {
     "data": {
      "text/plain": [
       "6515"
      ]
     },
     "execution_count": 516,
     "metadata": {},
     "output_type": "execute_result"
    }
   ],
   "source": [
    "len(X_1)"
   ]
  },
  {
   "cell_type": "code",
   "execution_count": 517,
   "metadata": {},
   "outputs": [
    {
     "data": {
      "text/plain": [
       "3485"
      ]
     },
     "execution_count": 517,
     "metadata": {},
     "output_type": "execute_result"
    }
   ],
   "source": [
    "len(X_2)"
   ]
  },
  {
   "cell_type": "code",
   "execution_count": 518,
   "metadata": {},
   "outputs": [
    {
     "data": {
      "text/plain": [
       "0.05596486509086142"
      ]
     },
     "execution_count": 518,
     "metadata": {},
     "output_type": "execute_result"
    }
   ],
   "source": [
    "np.mean(X_1)"
   ]
  },
  {
   "cell_type": "code",
   "execution_count": null,
   "metadata": {},
   "outputs": [],
   "source": []
  }
 ],
 "metadata": {
  "kernelspec": {
   "display_name": "Python 3",
   "language": "python",
   "name": "python3"
  },
  "language_info": {
   "codemirror_mode": {
    "name": "ipython",
    "version": 3
   },
   "file_extension": ".py",
   "mimetype": "text/x-python",
   "name": "python",
   "nbconvert_exporter": "python",
   "pygments_lexer": "ipython3",
   "version": "3.6.8"
  }
 },
 "nbformat": 4,
 "nbformat_minor": 2
}
