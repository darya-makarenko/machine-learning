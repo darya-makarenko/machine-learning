{
 "cells": [
  {
   "cell_type": "code",
   "execution_count": 2,
   "metadata": {},
   "outputs": [],
   "source": [
    "import matplotlib.pyplot as plt\n",
    "from sklearn.linear_model import Perceptron\n",
    "import numpy as np"
   ]
  },
  {
   "cell_type": "code",
   "execution_count": 55,
   "metadata": {},
   "outputs": [],
   "source": [
    "x_1, y_1 = [x for x in np.random.randint(0, 150, 100)], [x for x in np.random.randint(0, 150, 100)]"
   ]
  },
  {
   "cell_type": "code",
   "execution_count": 56,
   "metadata": {},
   "outputs": [],
   "source": [
    "x_2, y_2 = [x for x in np.random.randint(150, 300, 100)], [x for x in np.random.randint(150, 300, 100)]"
   ]
  },
  {
   "cell_type": "code",
   "execution_count": 57,
   "metadata": {},
   "outputs": [
    {
     "data": {
      "image/png": "[encoded data removed]",
      "text/plain": [
       "<Figure size 432x288 with 1 Axes>"
      ]
     },
     "metadata": {
      "needs_background": "light"
     },
     "output_type": "display_data"
    }
   ],
   "source": [
    "plt.scatter(x_1, y_1, c='r')\n",
    "plt.scatter(x_2, y_2, c='b')\n",
    "\n",
    "\n",
    "plt.show()"
   ]
  },
  {
   "cell_type": "code",
   "execution_count": 69,
   "metadata": {},
   "outputs": [],
   "source": [
    "Label_1 = [0] * 100\n",
    "Label_2 = [1] * 100"
   ]
  },
  {
   "cell_type": "code",
   "execution_count": 70,
   "metadata": {},
   "outputs": [],
   "source": [
    "labels = Label_1 + Label_2"
   ]
  },
  {
   "cell_type": "code",
   "execution_count": 71,
   "metadata": {},
   "outputs": [],
   "source": []
  },
  {
   "cell_type": "code",
   "execution_count": 85,
   "metadata": {},
   "outputs": [],
   "source": [
    "X, Label = np.ndarray((len(x_1) + len(x_2), 2)), np.ndarray((len(x_1) + len(x_2), 1))"
   ]
  },
  {
   "cell_type": "code",
   "execution_count": 86,
   "metadata": {},
   "outputs": [],
   "source": [
    "x = x_1 + x_2\n",
    "y = y_2 + y_2"
   ]
  },
  {
   "cell_type": "code",
   "execution_count": 90,
   "metadata": {},
   "outputs": [],
   "source": [
    "for i in range(len(x)):\n",
    "    X[i] = [x[i], y[i]]\n",
    "    Label[i] = labels[i]"
   ]
  },
  {
   "cell_type": "code",
   "execution_count": 95,
   "metadata": {},
   "outputs": [
    {
     "name": "stderr",
     "output_type": "stream",
     "text": [
      "d:\\programs\\anaconda\\envs\\python_3_6\\lib\\site-packages\\sklearn\\linear_model\\stochastic_gradient.py:166: FutureWarning: max_iter and tol parameters have been added in Perceptron in 0.19. If both are left unset, they default to max_iter=5 and tol=None. If tol is not None, max_iter defaults to max_iter=1000. From 0.21, default max_iter will be 1000, and default tol will be 1e-3.\n",
      "  FutureWarning)\n",
      "d:\\programs\\anaconda\\envs\\python_3_6\\lib\\site-packages\\sklearn\\utils\\validation.py:761: DataConversionWarning: A column-vector y was passed when a 1d array was expected. Please change the shape of y to (n_samples, ), for example using ravel().\n",
      "  y = column_or_1d(y, warn=True)\n"
     ]
    },
    {
     "data": {
      "text/plain": [
       "Perceptron(alpha=0.0001, class_weight=None, early_stopping=False, eta0=1.0,\n",
       "      fit_intercept=True, max_iter=None, n_iter=None, n_iter_no_change=5,\n",
       "      n_jobs=None, penalty=None, random_state=0, shuffle=True, tol=None,\n",
       "      validation_fraction=0.1, verbose=0, warm_start=False)"
      ]
     },
     "execution_count": 95,
     "metadata": {},
     "output_type": "execute_result"
    }
   ],
   "source": [
    "model = Perceptron()\n",
    "model.fit(X[:150], Label[:150])"
   ]
  },
  {
   "cell_type": "code",
   "execution_count": 99,
   "metadata": {},
   "outputs": [
    {
     "data": {
      "text/plain": [
       "array([0., 0., 0., 0., 1., 0., 0., 1., 0., 0., 0., 0., 0., 0., 0., 0., 0.,\n",
       "       0., 0., 0., 0., 0., 0., 0., 0., 1., 0., 0., 0., 0., 0., 1., 0., 0.,\n",
       "       0., 0., 0., 0., 0., 0., 0., 0., 1., 0., 0., 1., 0., 1., 0., 0., 0.,\n",
       "       1., 1., 0., 0., 0., 0., 0., 0., 1., 0., 1., 0., 0., 0., 0., 1., 1.,\n",
       "       0., 0., 0., 0., 1., 1., 1., 0., 0., 0., 0., 1., 0., 0., 0., 0., 0.,\n",
       "       0., 0., 0., 0., 0., 0., 0., 0., 1., 0., 0., 1., 0., 0., 0., 1., 1.,\n",
       "       1., 1., 1., 1., 1., 1., 1., 1., 1., 1., 1., 1., 1., 1., 1., 1., 1.,\n",
       "       1., 1., 1., 1., 1., 1., 1., 1., 1., 1., 1., 1., 1., 1., 1., 1., 1.,\n",
       "       1., 1., 0., 1., 1., 1., 1., 1., 1., 1., 1., 1., 1., 1., 1., 1., 1.,\n",
       "       1., 1., 1., 1., 1., 1., 1., 1., 1., 1., 1., 1., 1., 1., 1., 1., 1.,\n",
       "       1., 1., 1., 1., 1., 1., 1., 1., 1., 1., 1., 1., 1., 1., 1., 1., 1.,\n",
       "       1., 1., 1., 1., 1., 1., 1., 1., 1., 1., 1., 1., 1.])"
      ]
     },
     "execution_count": 99,
     "metadata": {},
     "output_type": "execute_result"
    }
   ],
   "source": [
    "model.predict(X)"
   ]
  },
  {
   "cell_type": "code",
   "execution_count": 110,
   "metadata": {},
   "outputs": [],
   "source": [
    "X__ = np.ndarray([300, 2])"
   ]
  },
  {
   "cell_type": "code",
   "execution_count": 111,
   "metadata": {},
   "outputs": [],
   "source": [
    "for \n",
    "    X__[:,0] = range(0, 300)\n",
    "    X__[:,1] = range(0, 300)\n"
   ]
  },
  {
   "cell_type": "code",
   "execution_count": 112,
   "metadata": {},
   "outputs": [
    {
     "data": {
      "text/plain": [
       "array([0., 1., 1., 1., 1., 1., 1., 1., 1., 1., 1., 1., 1., 1., 1., 1., 1.,\n",
       "       1., 1., 1., 1., 1., 1., 1., 1., 1., 1., 1., 1., 1., 1., 1., 1., 1.,\n",
       "       1., 1., 1., 1., 1., 1., 1., 1., 1., 1., 1., 1., 1., 1., 1., 1., 1.,\n",
       "       1., 1., 1., 1., 1., 1., 1., 1., 1., 1., 1., 1., 1., 1., 1., 1., 1.,\n",
       "       1., 1., 1., 1., 1., 1., 1., 1., 1., 1., 1., 1., 1., 1., 1., 1., 1.,\n",
       "       1., 1., 1., 1., 1., 1., 1., 1., 1., 1., 1., 1., 1., 1., 1., 1., 1.,\n",
       "       1., 1., 1., 1., 1., 1., 1., 1., 1., 1., 1., 1., 1., 1., 1., 1., 1.,\n",
       "       1., 1., 1., 1., 1., 1., 1., 1., 1., 1., 1., 1., 1., 1., 1., 1., 1.,\n",
       "       1., 1., 1., 1., 1., 1., 1., 1., 1., 1., 1., 1., 1., 1., 1., 1., 1.,\n",
       "       1., 1., 1., 1., 1., 1., 1., 1., 1., 1., 1., 1., 1., 1., 1., 1., 1.,\n",
       "       1., 1., 1., 1., 1., 1., 1., 1., 1., 1., 1., 1., 1., 1., 1., 1., 1.,\n",
       "       1., 1., 1., 1., 1., 1., 1., 1., 1., 1., 1., 1., 1., 1., 1., 1., 1.,\n",
       "       1., 1., 1., 1., 1., 1., 1., 1., 1., 1., 1., 1., 1., 1., 1., 1., 1.,\n",
       "       1., 1., 1., 1., 1., 1., 1., 1., 1., 1., 1., 1., 1., 1., 1., 1., 1.,\n",
       "       1., 1., 1., 1., 1., 1., 1., 1., 1., 1., 1., 1., 1., 1., 1., 1., 1.,\n",
       "       1., 1., 1., 1., 1., 1., 1., 1., 1., 1., 1., 1., 1., 1., 1., 1., 1.,\n",
       "       1., 1., 1., 1., 1., 1., 1., 1., 1., 1., 1., 1., 1., 1., 1., 1., 1.,\n",
       "       1., 1., 1., 1., 1., 1., 1., 1., 1., 1., 1.])"
      ]
     },
     "execution_count": 112,
     "metadata": {},
     "output_type": "execute_result"
    }
   ],
   "source": [
    "model.predict(X__)"
   ]
  },
  {
   "cell_type": "code",
   "execution_count": 113,
   "metadata": {},
   "outputs": [
    {
     "data": {
      "text/plain": [
       "array([[  0.,   0.],\n",
       "       [  1.,   1.],\n",
       "       [  2.,   2.],\n",
       "       [  3.,   3.],\n",
       "       [  4.,   4.],\n",
       "       [  5.,   5.],\n",
       "       [  6.,   6.],\n",
       "       [  7.,   7.],\n",
       "       [  8.,   8.],\n",
       "       [  9.,   9.],\n",
       "       [ 10.,  10.],\n",
       "       [ 11.,  11.],\n",
       "       [ 12.,  12.],\n",
       "       [ 13.,  13.],\n",
       "       [ 14.,  14.],\n",
       "       [ 15.,  15.],\n",
       "       [ 16.,  16.],\n",
       "       [ 17.,  17.],\n",
       "       [ 18.,  18.],\n",
       "       [ 19.,  19.],\n",
       "       [ 20.,  20.],\n",
       "       [ 21.,  21.],\n",
       "       [ 22.,  22.],\n",
       "       [ 23.,  23.],\n",
       "       [ 24.,  24.],\n",
       "       [ 25.,  25.],\n",
       "       [ 26.,  26.],\n",
       "       [ 27.,  27.],\n",
       "       [ 28.,  28.],\n",
       "       [ 29.,  29.],\n",
       "       [ 30.,  30.],\n",
       "       [ 31.,  31.],\n",
       "       [ 32.,  32.],\n",
       "       [ 33.,  33.],\n",
       "       [ 34.,  34.],\n",
       "       [ 35.,  35.],\n",
       "       [ 36.,  36.],\n",
       "       [ 37.,  37.],\n",
       "       [ 38.,  38.],\n",
       "       [ 39.,  39.],\n",
       "       [ 40.,  40.],\n",
       "       [ 41.,  41.],\n",
       "       [ 42.,  42.],\n",
       "       [ 43.,  43.],\n",
       "       [ 44.,  44.],\n",
       "       [ 45.,  45.],\n",
       "       [ 46.,  46.],\n",
       "       [ 47.,  47.],\n",
       "       [ 48.,  48.],\n",
       "       [ 49.,  49.],\n",
       "       [ 50.,  50.],\n",
       "       [ 51.,  51.],\n",
       "       [ 52.,  52.],\n",
       "       [ 53.,  53.],\n",
       "       [ 54.,  54.],\n",
       "       [ 55.,  55.],\n",
       "       [ 56.,  56.],\n",
       "       [ 57.,  57.],\n",
       "       [ 58.,  58.],\n",
       "       [ 59.,  59.],\n",
       "       [ 60.,  60.],\n",
       "       [ 61.,  61.],\n",
       "       [ 62.,  62.],\n",
       "       [ 63.,  63.],\n",
       "       [ 64.,  64.],\n",
       "       [ 65.,  65.],\n",
       "       [ 66.,  66.],\n",
       "       [ 67.,  67.],\n",
       "       [ 68.,  68.],\n",
       "       [ 69.,  69.],\n",
       "       [ 70.,  70.],\n",
       "       [ 71.,  71.],\n",
       "       [ 72.,  72.],\n",
       "       [ 73.,  73.],\n",
       "       [ 74.,  74.],\n",
       "       [ 75.,  75.],\n",
       "       [ 76.,  76.],\n",
       "       [ 77.,  77.],\n",
       "       [ 78.,  78.],\n",
       "       [ 79.,  79.],\n",
       "       [ 80.,  80.],\n",
       "       [ 81.,  81.],\n",
       "       [ 82.,  82.],\n",
       "       [ 83.,  83.],\n",
       "       [ 84.,  84.],\n",
       "       [ 85.,  85.],\n",
       "       [ 86.,  86.],\n",
       "       [ 87.,  87.],\n",
       "       [ 88.,  88.],\n",
       "       [ 89.,  89.],\n",
       "       [ 90.,  90.],\n",
       "       [ 91.,  91.],\n",
       "       [ 92.,  92.],\n",
       "       [ 93.,  93.],\n",
       "       [ 94.,  94.],\n",
       "       [ 95.,  95.],\n",
       "       [ 96.,  96.],\n",
       "       [ 97.,  97.],\n",
       "       [ 98.,  98.],\n",
       "       [ 99.,  99.],\n",
       "       [100., 100.],\n",
       "       [101., 101.],\n",
       "       [102., 102.],\n",
       "       [103., 103.],\n",
       "       [104., 104.],\n",
       "       [105., 105.],\n",
       "       [106., 106.],\n",
       "       [107., 107.],\n",
       "       [108., 108.],\n",
       "       [109., 109.],\n",
       "       [110., 110.],\n",
       "       [111., 111.],\n",
       "       [112., 112.],\n",
       "       [113., 113.],\n",
       "       [114., 114.],\n",
       "       [115., 115.],\n",
       "       [116., 116.],\n",
       "       [117., 117.],\n",
       "       [118., 118.],\n",
       "       [119., 119.],\n",
       "       [120., 120.],\n",
       "       [121., 121.],\n",
       "       [122., 122.],\n",
       "       [123., 123.],\n",
       "       [124., 124.],\n",
       "       [125., 125.],\n",
       "       [126., 126.],\n",
       "       [127., 127.],\n",
       "       [128., 128.],\n",
       "       [129., 129.],\n",
       "       [130., 130.],\n",
       "       [131., 131.],\n",
       "       [132., 132.],\n",
       "       [133., 133.],\n",
       "       [134., 134.],\n",
       "       [135., 135.],\n",
       "       [136., 136.],\n",
       "       [137., 137.],\n",
       "       [138., 138.],\n",
       "       [139., 139.],\n",
       "       [140., 140.],\n",
       "       [141., 141.],\n",
       "       [142., 142.],\n",
       "       [143., 143.],\n",
       "       [144., 144.],\n",
       "       [145., 145.],\n",
       "       [146., 146.],\n",
       "       [147., 147.],\n",
       "       [148., 148.],\n",
       "       [149., 149.],\n",
       "       [150., 150.],\n",
       "       [151., 151.],\n",
       "       [152., 152.],\n",
       "       [153., 153.],\n",
       "       [154., 154.],\n",
       "       [155., 155.],\n",
       "       [156., 156.],\n",
       "       [157., 157.],\n",
       "       [158., 158.],\n",
       "       [159., 159.],\n",
       "       [160., 160.],\n",
       "       [161., 161.],\n",
       "       [162., 162.],\n",
       "       [163., 163.],\n",
       "       [164., 164.],\n",
       "       [165., 165.],\n",
       "       [166., 166.],\n",
       "       [167., 167.],\n",
       "       [168., 168.],\n",
       "       [169., 169.],\n",
       "       [170., 170.],\n",
       "       [171., 171.],\n",
       "       [172., 172.],\n",
       "       [173., 173.],\n",
       "       [174., 174.],\n",
       "       [175., 175.],\n",
       "       [176., 176.],\n",
       "       [177., 177.],\n",
       "       [178., 178.],\n",
       "       [179., 179.],\n",
       "       [180., 180.],\n",
       "       [181., 181.],\n",
       "       [182., 182.],\n",
       "       [183., 183.],\n",
       "       [184., 184.],\n",
       "       [185., 185.],\n",
       "       [186., 186.],\n",
       "       [187., 187.],\n",
       "       [188., 188.],\n",
       "       [189., 189.],\n",
       "       [190., 190.],\n",
       "       [191., 191.],\n",
       "       [192., 192.],\n",
       "       [193., 193.],\n",
       "       [194., 194.],\n",
       "       [195., 195.],\n",
       "       [196., 196.],\n",
       "       [197., 197.],\n",
       "       [198., 198.],\n",
       "       [199., 199.],\n",
       "       [200., 200.],\n",
       "       [201., 201.],\n",
       "       [202., 202.],\n",
       "       [203., 203.],\n",
       "       [204., 204.],\n",
       "       [205., 205.],\n",
       "       [206., 206.],\n",
       "       [207., 207.],\n",
       "       [208., 208.],\n",
       "       [209., 209.],\n",
       "       [210., 210.],\n",
       "       [211., 211.],\n",
       "       [212., 212.],\n",
       "       [213., 213.],\n",
       "       [214., 214.],\n",
       "       [215., 215.],\n",
       "       [216., 216.],\n",
       "       [217., 217.],\n",
       "       [218., 218.],\n",
       "       [219., 219.],\n",
       "       [220., 220.],\n",
       "       [221., 221.],\n",
       "       [222., 222.],\n",
       "       [223., 223.],\n",
       "       [224., 224.],\n",
       "       [225., 225.],\n",
       "       [226., 226.],\n",
       "       [227., 227.],\n",
       "       [228., 228.],\n",
       "       [229., 229.],\n",
       "       [230., 230.],\n",
       "       [231., 231.],\n",
       "       [232., 232.],\n",
       "       [233., 233.],\n",
       "       [234., 234.],\n",
       "       [235., 235.],\n",
       "       [236., 236.],\n",
       "       [237., 237.],\n",
       "       [238., 238.],\n",
       "       [239., 239.],\n",
       "       [240., 240.],\n",
       "       [241., 241.],\n",
       "       [242., 242.],\n",
       "       [243., 243.],\n",
       "       [244., 244.],\n",
       "       [245., 245.],\n",
       "       [246., 246.],\n",
       "       [247., 247.],\n",
       "       [248., 248.],\n",
       "       [249., 249.],\n",
       "       [250., 250.],\n",
       "       [251., 251.],\n",
       "       [252., 252.],\n",
       "       [253., 253.],\n",
       "       [254., 254.],\n",
       "       [255., 255.],\n",
       "       [256., 256.],\n",
       "       [257., 257.],\n",
       "       [258., 258.],\n",
       "       [259., 259.],\n",
       "       [260., 260.],\n",
       "       [261., 261.],\n",
       "       [262., 262.],\n",
       "       [263., 263.],\n",
       "       [264., 264.],\n",
       "       [265., 265.],\n",
       "       [266., 266.],\n",
       "       [267., 267.],\n",
       "       [268., 268.],\n",
       "       [269., 269.],\n",
       "       [270., 270.],\n",
       "       [271., 271.],\n",
       "       [272., 272.],\n",
       "       [273., 273.],\n",
       "       [274., 274.],\n",
       "       [275., 275.],\n",
       "       [276., 276.],\n",
       "       [277., 277.],\n",
       "       [278., 278.],\n",
       "       [279., 279.],\n",
       "       [280., 280.],\n",
       "       [281., 281.],\n",
       "       [282., 282.],\n",
       "       [283., 283.],\n",
       "       [284., 284.],\n",
       "       [285., 285.],\n",
       "       [286., 286.],\n",
       "       [287., 287.],\n",
       "       [288., 288.],\n",
       "       [289., 289.],\n",
       "       [290., 290.],\n",
       "       [291., 291.],\n",
       "       [292., 292.],\n",
       "       [293., 293.],\n",
       "       [294., 294.],\n",
       "       [295., 295.],\n",
       "       [296., 296.],\n",
       "       [297., 297.],\n",
       "       [298., 298.],\n",
       "       [299., 299.]])"
      ]
     },
     "execution_count": 113,
     "metadata": {},
     "output_type": "execute_result"
    }
   ],
   "source": [
    "X__"
   ]
  },
  {
   "cell_type": "code",
   "execution_count": null,
   "metadata": {},
   "outputs": [],
   "source": []
  }
 ],
 "metadata": {
  "kernelspec": {
   "display_name": "Python 3",
   "language": "python",
   "name": "python3"
  },
  "language_info": {
   "codemirror_mode": {
    "name": "ipython",
    "version": 3
   },
   "file_extension": ".py",
   "mimetype": "text/x-python",
   "name": "python",
   "nbconvert_exporter": "python",
   "pygments_lexer": "ipython3",
   "version": "3.6.8"
  }
 },
 "nbformat": 4,
 "nbformat_minor": 2
}
